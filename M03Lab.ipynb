{
 "cells": [
  {
   "cell_type": "code",
   "execution_count": 1,
   "id": "b9a544cd-c81c-484b-b3c9-e36174e5bd9d",
   "metadata": {},
   "outputs": [
    {
     "name": "stdout",
     "output_type": "stream",
     "text": [
      "Please enter the details of the vehicle:\n"
     ]
    },
    {
     "name": "stdin",
     "output_type": "stream",
     "text": [
      "Car, Truck, Van, SUV:  Car\n",
      "Year:  2012\n",
      "Make:  Toyota\n",
      "Model:  Yaris\n",
      "Number of doors (2 or 4):  2\n",
      "Type of roof (solid or sunroof):  solid\n"
     ]
    },
    {
     "name": "stdout",
     "output_type": "stream",
     "text": [
      "\n",
      "Car Information:\n",
      "Vehicle type: Car\n",
      "Year: 2012\n",
      "Make: Toyota\n",
      "Model: Yaris\n",
      "Number of doors: 2\n",
      "Type of roof: solid\n"
     ]
    }
   ],
   "source": [
    "class Vehicle:\n",
    "    def __init__(self, vehicle_type):\n",
    "        self.vehicle_type = vehicle_type\n",
    "\n",
    "\n",
    "class Automobile(Vehicle):\n",
    "    def __init__(self, vehicle_type, year, make, model, doors, roof):\n",
    "        super().__init__(vehicle_type) \n",
    "        self.year = year\n",
    "        self.make = make\n",
    "        self.model = model\n",
    "        self.doors = doors\n",
    "        self.roof = roof\n",
    "\n",
    "    def display_info(self):\n",
    "        print(\"Vehicle type:\", self.vehicle_type)\n",
    "        print(\"Year:\", self.year)\n",
    "        print(\"Make:\", self.make)\n",
    "        print(\"Model:\", self.model)\n",
    "        print(\"Number of doors:\", self.doors)\n",
    "        print(\"Type of roof:\", self.roof)\n",
    "\n",
    "\n",
    "def main():\n",
    "    print(\"Please enter the details of the vehicle:\")\n",
    "    vehicle_type = input(\"Car, Truck, Van, SUV: \")  \n",
    "    year = input(\"Year: \")\n",
    "    make = input(\"Make: \")\n",
    "    model = input(\"Model: \")\n",
    "    doors = input(\"Number of doors (2 or 4): \")\n",
    "    roof = input(\"Type of roof (solid or sunroof): \")\n",
    "\n",
    "    # Validate vehicle input\n",
    "    while vehicle_type not in ['Car', 'Truck', 'Van', 'SUV']:\n",
    "        print(\"Invalid input for vehicle type. Please enter Car, Truck, Van, or SUV.\")\n",
    "        vehicle_type = input(\"Type of vehicle (Car, Truck, Van, SUV): \")\n",
    "\n",
    "    # Validate doors input\n",
    "    while doors not in ['2', '4']:\n",
    "        print(\"Invalid input for number of doors. Please enter 2 or 4.\")\n",
    "        doors = input(\"Number of doors (2 or 4): \")\n",
    "\n",
    "    # Validate roof input\n",
    "    while roof.lower() not in ['solid', 'sunroof']:\n",
    "        print(\"Invalid input for type of roof. Please enter 'solid' or 'sunroof'.\")\n",
    "        roof = input(\"Type of roof (solid or sunroof): \")\n",
    "\n",
    "    # Create Automobile object\n",
    "    car = Automobile(vehicle_type, year, make, model, doors, roof)\n",
    "\n",
    "    # Display car information\n",
    "    print(\"\\nCar Information:\")\n",
    "    car.display_info()\n",
    "\n",
    "\n",
    "if __name__ == \"__main__\":\n",
    "    main()"
   ]
  },
  {
   "cell_type": "code",
   "execution_count": null,
   "id": "da6d1e89-d60e-434d-9be2-15567b15b5c8",
   "metadata": {},
   "outputs": [],
   "source": []
  }
 ],
 "metadata": {
  "kernelspec": {
   "display_name": "Python 3 (ipykernel)",
   "language": "python",
   "name": "python3"
  },
  "language_info": {
   "codemirror_mode": {
    "name": "ipython",
    "version": 3
   },
   "file_extension": ".py",
   "mimetype": "text/x-python",
   "name": "python",
   "nbconvert_exporter": "python",
   "pygments_lexer": "ipython3",
   "version": "3.11.7"
  }
 },
 "nbformat": 4,
 "nbformat_minor": 5
}
