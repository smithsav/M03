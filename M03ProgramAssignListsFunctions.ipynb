{
 "cells": [
  {
   "cell_type": "markdown",
   "id": "45e4405d-83f6-4203-9a61-ff8d20c9a5c3",
   "metadata": {},
   "source": [
    "# Lists and Functions\n",
    "# Savannah Smith"
   ]
  },
  {
   "cell_type": "markdown",
   "id": "506d5754-6828-4d95-924e-e2505cb988db",
   "metadata": {},
   "source": [
    "# 7.4\n",
    "# Make a list called things with these three strings as elements: \"mozzarella\", \"cinderella\", \"salmonella\"."
   ]
  },
  {
   "cell_type": "code",
   "execution_count": null,
   "id": "e6e670c6-68ea-4955-9295-3d52d15fd28b",
   "metadata": {},
   "outputs": [],
   "source": [
    "things = [\"mozzarella\", \"cinderella\", \"salmonella\"]"
   ]
  },
  {
   "cell_type": "markdown",
   "id": "8026a349-7ee4-4be4-8503-fea86c2af7d1",
   "metadata": {},
   "source": [
    "# 7.5\n",
    "# Capitalize the element in things that refers to a person and then print the list. Did it change the element in the list?"
   ]
  },
  {
   "cell_type": "code",
   "execution_count": 1,
   "id": "8f5a0f9e-b02a-46c1-9fa4-3a28fd52e613",
   "metadata": {},
   "outputs": [
    {
     "name": "stdout",
     "output_type": "stream",
     "text": [
      "['mozzarella', 'Cinderella', 'salmonella']\n"
     ]
    }
   ],
   "source": [
    "things = [\"mozzarella\", \"cinderella\", \"salmonella\"]\n",
    "\n",
    "things[1] = things[1].capitalize()\n",
    "\n",
    "print(things)\n",
    "\n",
    "# Only the second element ('cinderella') in the list has been capitalized. The original list is unchanged except for the capitalization."
   ]
  },
  {
   "cell_type": "markdown",
   "id": "4c3a4381-87fa-4a94-b0c6-a027d1add3af",
   "metadata": {},
   "source": [
    "# 7.6 \n",
    "# Make the cheesy element of things all uppercase and then print the list."
   ]
  },
  {
   "cell_type": "code",
   "execution_count": 8,
   "id": "d35e4e83-ca4e-48a7-84eb-9e4e60898d18",
   "metadata": {},
   "outputs": [
    {
     "name": "stdout",
     "output_type": "stream",
     "text": [
      "['MOZZARELLA', 'Cinderella', 'salmonella']\n"
     ]
    }
   ],
   "source": [
    "things = [\"mozzarella\", \"Cinderella\", \"salmonella\"]\n",
    "\n",
    "things[0] = things[0].upper()\n",
    "\n",
    "print(things)"
   ]
  },
  {
   "cell_type": "markdown",
   "id": "0e941e17-c582-4dff-83d6-e5e2b9d688ce",
   "metadata": {},
   "source": [
    "# 7.7\n",
    "# Delete the disease element from things, collect your Nobel Prize, and print the list."
   ]
  },
  {
   "cell_type": "code",
   "execution_count": 3,
   "id": "5c5c5d39-e82f-4bcd-be65-6a9725115af4",
   "metadata": {},
   "outputs": [
    {
     "name": "stdout",
     "output_type": "stream",
     "text": [
      "['MOZZARELLA', 'Cinderella']\n"
     ]
    }
   ],
   "source": [
    "things = ['MOZZARELLA', 'Cinderella', 'salmonella']\n",
    "\n",
    "things.remove('salmonella')\n",
    "\n",
    "print(things)"
   ]
  },
  {
   "cell_type": "markdown",
   "id": "5ebecac8-84a1-498f-9850-32c0e0d639f2",
   "metadata": {},
   "source": [
    "# 9.1 \n",
    "# Define a function called good() that returns the following list: ['Harry', 'Ron', 'Hermione']."
   ]
  },
  {
   "cell_type": "code",
   "execution_count": 6,
   "id": "5e4ece62-ce18-4967-8c8a-fa66e060b79a",
   "metadata": {},
   "outputs": [],
   "source": [
    "def good():\n",
    "    return ['Harry', 'Ron', 'Hermione']"
   ]
  },
  {
   "cell_type": "markdown",
   "id": "11d59303-b07b-493e-889b-a8bdaffad7db",
   "metadata": {},
   "source": [
    "# 9.2\n",
    "# Define a generator function called get_odds() that returns the odd numbers from range(10). Use a for loop to find and print the third value returned."
   ]
  },
  {
   "cell_type": "code",
   "execution_count": 7,
   "id": "70c11571-8693-4902-ac5d-2337ef2197dc",
   "metadata": {},
   "outputs": [
    {
     "name": "stdout",
     "output_type": "stream",
     "text": [
      "The third value returned by get_odds() is: 5\n"
     ]
    }
   ],
   "source": [
    "def get_odds():\n",
    "    for num in range(1, 10, 2):\n",
    "        yield num\n",
    "\n",
    "count = 0\n",
    "for value in get_odds():\n",
    "    count += 1\n",
    "    if count == 3:\n",
    "        print(\"The third value returned by get_odds() is:\", value)\n",
    "        break"
   ]
  }
 ],
 "metadata": {
  "kernelspec": {
   "display_name": "Python 3 (ipykernel)",
   "language": "python",
   "name": "python3"
  },
  "language_info": {
   "codemirror_mode": {
    "name": "ipython",
    "version": 3
   },
   "file_extension": ".py",
   "mimetype": "text/x-python",
   "name": "python",
   "nbconvert_exporter": "python",
   "pygments_lexer": "ipython3",
   "version": "3.11.7"
  }
 },
 "nbformat": 4,
 "nbformat_minor": 5
}
